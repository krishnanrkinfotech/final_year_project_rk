{
  "nbformat": 4,
  "nbformat_minor": 0,
  "metadata": {
    "colab": {
      "name": "Copy of HYPERPARAMETER TUNING GRID SEARCH USING SVM.ipynb",
      "provenance": [],
      "collapsed_sections": []
    },
    "kernelspec": {
      "name": "python3",
      "display_name": "Python 3"
    }
  },
  "cells": [
    {
      "cell_type": "code",
      "metadata": {
        "id": "pwj3I0CuPUej",
        "colab_type": "code",
        "colab": {}
      },
      "source": [
        "import numpy as np\n",
        "import matplotlib.pyplot as plt\n",
        "import pandas as pd"
      ],
      "execution_count": null,
      "outputs": []
    },
    {
      "cell_type": "code",
      "metadata": {
        "id": "uwurWceePcZO",
        "colab_type": "code",
        "colab": {}
      },
      "source": [
        "dataset = pd.read_csv('/content/drive/My Drive/kddcup99_csv.csv')"
      ],
      "execution_count": null,
      "outputs": []
    },
    {
      "cell_type": "code",
      "metadata": {
        "id": "zNkolQTGPlzf",
        "colab_type": "code",
        "colab": {
          "base_uri": "https://localhost:8080/",
          "height": 219
        },
        "outputId": "da34b9d2-fa09-4066-d542-20aacd068490"
      },
      "source": [
        "dataset.head(5)"
      ],
      "execution_count": null,
      "outputs": [
        {
          "output_type": "execute_result",
          "data": {
            "text/html": [
              "<div>\n",
              "<style scoped>\n",
              "    .dataframe tbody tr th:only-of-type {\n",
              "        vertical-align: middle;\n",
              "    }\n",
              "\n",
              "    .dataframe tbody tr th {\n",
              "        vertical-align: top;\n",
              "    }\n",
              "\n",
              "    .dataframe thead th {\n",
              "        text-align: right;\n",
              "    }\n",
              "</style>\n",
              "<table border=\"1\" class=\"dataframe\">\n",
              "  <thead>\n",
              "    <tr style=\"text-align: right;\">\n",
              "      <th></th>\n",
              "      <th>duration</th>\n",
              "      <th>protocol_type</th>\n",
              "      <th>service</th>\n",
              "      <th>flag</th>\n",
              "      <th>src_bytes</th>\n",
              "      <th>dst_bytes</th>\n",
              "      <th>land</th>\n",
              "      <th>wrong_fragment</th>\n",
              "      <th>urgent</th>\n",
              "      <th>hot</th>\n",
              "      <th>num_failed_logins</th>\n",
              "      <th>logged_in</th>\n",
              "      <th>lnum_compromised</th>\n",
              "      <th>lroot_shell</th>\n",
              "      <th>lsu_attempted</th>\n",
              "      <th>lnum_root</th>\n",
              "      <th>lnum_file_creations</th>\n",
              "      <th>lnum_shells</th>\n",
              "      <th>lnum_access_files</th>\n",
              "      <th>lnum_outbound_cmds</th>\n",
              "      <th>is_host_login</th>\n",
              "      <th>is_guest_login</th>\n",
              "      <th>count</th>\n",
              "      <th>srv_count</th>\n",
              "      <th>serror_rate</th>\n",
              "      <th>srv_serror_rate</th>\n",
              "      <th>rerror_rate</th>\n",
              "      <th>srv_rerror_rate</th>\n",
              "      <th>same_srv_rate</th>\n",
              "      <th>diff_srv_rate</th>\n",
              "      <th>srv_diff_host_rate</th>\n",
              "      <th>dst_host_count</th>\n",
              "      <th>dst_host_srv_count</th>\n",
              "      <th>dst_host_same_srv_rate</th>\n",
              "      <th>dst_host_diff_srv_rate</th>\n",
              "      <th>dst_host_same_src_port_rate</th>\n",
              "      <th>dst_host_srv_diff_host_rate</th>\n",
              "      <th>dst_host_serror_rate</th>\n",
              "      <th>dst_host_srv_serror_rate</th>\n",
              "      <th>dst_host_rerror_rate</th>\n",
              "      <th>dst_host_srv_rerror_rate</th>\n",
              "      <th>label</th>\n",
              "    </tr>\n",
              "  </thead>\n",
              "  <tbody>\n",
              "    <tr>\n",
              "      <th>0</th>\n",
              "      <td>0</td>\n",
              "      <td>tcp</td>\n",
              "      <td>http</td>\n",
              "      <td>SF</td>\n",
              "      <td>181</td>\n",
              "      <td>5450</td>\n",
              "      <td>0</td>\n",
              "      <td>0</td>\n",
              "      <td>0</td>\n",
              "      <td>0</td>\n",
              "      <td>0</td>\n",
              "      <td>1</td>\n",
              "      <td>0</td>\n",
              "      <td>0</td>\n",
              "      <td>0</td>\n",
              "      <td>0</td>\n",
              "      <td>0</td>\n",
              "      <td>0</td>\n",
              "      <td>0</td>\n",
              "      <td>0</td>\n",
              "      <td>0</td>\n",
              "      <td>0</td>\n",
              "      <td>8</td>\n",
              "      <td>8</td>\n",
              "      <td>0.0</td>\n",
              "      <td>0.0</td>\n",
              "      <td>0.0</td>\n",
              "      <td>0.0</td>\n",
              "      <td>1.0</td>\n",
              "      <td>0.0</td>\n",
              "      <td>0.0</td>\n",
              "      <td>9</td>\n",
              "      <td>9</td>\n",
              "      <td>1.0</td>\n",
              "      <td>0.0</td>\n",
              "      <td>0.11</td>\n",
              "      <td>0.0</td>\n",
              "      <td>0.0</td>\n",
              "      <td>0.0</td>\n",
              "      <td>0.0</td>\n",
              "      <td>0.0</td>\n",
              "      <td>normal</td>\n",
              "    </tr>\n",
              "    <tr>\n",
              "      <th>1</th>\n",
              "      <td>0</td>\n",
              "      <td>tcp</td>\n",
              "      <td>http</td>\n",
              "      <td>SF</td>\n",
              "      <td>239</td>\n",
              "      <td>486</td>\n",
              "      <td>0</td>\n",
              "      <td>0</td>\n",
              "      <td>0</td>\n",
              "      <td>0</td>\n",
              "      <td>0</td>\n",
              "      <td>1</td>\n",
              "      <td>0</td>\n",
              "      <td>0</td>\n",
              "      <td>0</td>\n",
              "      <td>0</td>\n",
              "      <td>0</td>\n",
              "      <td>0</td>\n",
              "      <td>0</td>\n",
              "      <td>0</td>\n",
              "      <td>0</td>\n",
              "      <td>0</td>\n",
              "      <td>8</td>\n",
              "      <td>8</td>\n",
              "      <td>0.0</td>\n",
              "      <td>0.0</td>\n",
              "      <td>0.0</td>\n",
              "      <td>0.0</td>\n",
              "      <td>1.0</td>\n",
              "      <td>0.0</td>\n",
              "      <td>0.0</td>\n",
              "      <td>19</td>\n",
              "      <td>19</td>\n",
              "      <td>1.0</td>\n",
              "      <td>0.0</td>\n",
              "      <td>0.05</td>\n",
              "      <td>0.0</td>\n",
              "      <td>0.0</td>\n",
              "      <td>0.0</td>\n",
              "      <td>0.0</td>\n",
              "      <td>0.0</td>\n",
              "      <td>normal</td>\n",
              "    </tr>\n",
              "    <tr>\n",
              "      <th>2</th>\n",
              "      <td>0</td>\n",
              "      <td>tcp</td>\n",
              "      <td>http</td>\n",
              "      <td>SF</td>\n",
              "      <td>235</td>\n",
              "      <td>1337</td>\n",
              "      <td>0</td>\n",
              "      <td>0</td>\n",
              "      <td>0</td>\n",
              "      <td>0</td>\n",
              "      <td>0</td>\n",
              "      <td>1</td>\n",
              "      <td>0</td>\n",
              "      <td>0</td>\n",
              "      <td>0</td>\n",
              "      <td>0</td>\n",
              "      <td>0</td>\n",
              "      <td>0</td>\n",
              "      <td>0</td>\n",
              "      <td>0</td>\n",
              "      <td>0</td>\n",
              "      <td>0</td>\n",
              "      <td>8</td>\n",
              "      <td>8</td>\n",
              "      <td>0.0</td>\n",
              "      <td>0.0</td>\n",
              "      <td>0.0</td>\n",
              "      <td>0.0</td>\n",
              "      <td>1.0</td>\n",
              "      <td>0.0</td>\n",
              "      <td>0.0</td>\n",
              "      <td>29</td>\n",
              "      <td>29</td>\n",
              "      <td>1.0</td>\n",
              "      <td>0.0</td>\n",
              "      <td>0.03</td>\n",
              "      <td>0.0</td>\n",
              "      <td>0.0</td>\n",
              "      <td>0.0</td>\n",
              "      <td>0.0</td>\n",
              "      <td>0.0</td>\n",
              "      <td>normal</td>\n",
              "    </tr>\n",
              "    <tr>\n",
              "      <th>3</th>\n",
              "      <td>0</td>\n",
              "      <td>tcp</td>\n",
              "      <td>http</td>\n",
              "      <td>SF</td>\n",
              "      <td>219</td>\n",
              "      <td>1337</td>\n",
              "      <td>0</td>\n",
              "      <td>0</td>\n",
              "      <td>0</td>\n",
              "      <td>0</td>\n",
              "      <td>0</td>\n",
              "      <td>1</td>\n",
              "      <td>0</td>\n",
              "      <td>0</td>\n",
              "      <td>0</td>\n",
              "      <td>0</td>\n",
              "      <td>0</td>\n",
              "      <td>0</td>\n",
              "      <td>0</td>\n",
              "      <td>0</td>\n",
              "      <td>0</td>\n",
              "      <td>0</td>\n",
              "      <td>6</td>\n",
              "      <td>6</td>\n",
              "      <td>0.0</td>\n",
              "      <td>0.0</td>\n",
              "      <td>0.0</td>\n",
              "      <td>0.0</td>\n",
              "      <td>1.0</td>\n",
              "      <td>0.0</td>\n",
              "      <td>0.0</td>\n",
              "      <td>39</td>\n",
              "      <td>39</td>\n",
              "      <td>1.0</td>\n",
              "      <td>0.0</td>\n",
              "      <td>0.03</td>\n",
              "      <td>0.0</td>\n",
              "      <td>0.0</td>\n",
              "      <td>0.0</td>\n",
              "      <td>0.0</td>\n",
              "      <td>0.0</td>\n",
              "      <td>normal</td>\n",
              "    </tr>\n",
              "    <tr>\n",
              "      <th>4</th>\n",
              "      <td>0</td>\n",
              "      <td>tcp</td>\n",
              "      <td>http</td>\n",
              "      <td>SF</td>\n",
              "      <td>217</td>\n",
              "      <td>2032</td>\n",
              "      <td>0</td>\n",
              "      <td>0</td>\n",
              "      <td>0</td>\n",
              "      <td>0</td>\n",
              "      <td>0</td>\n",
              "      <td>1</td>\n",
              "      <td>0</td>\n",
              "      <td>0</td>\n",
              "      <td>0</td>\n",
              "      <td>0</td>\n",
              "      <td>0</td>\n",
              "      <td>0</td>\n",
              "      <td>0</td>\n",
              "      <td>0</td>\n",
              "      <td>0</td>\n",
              "      <td>0</td>\n",
              "      <td>6</td>\n",
              "      <td>6</td>\n",
              "      <td>0.0</td>\n",
              "      <td>0.0</td>\n",
              "      <td>0.0</td>\n",
              "      <td>0.0</td>\n",
              "      <td>1.0</td>\n",
              "      <td>0.0</td>\n",
              "      <td>0.0</td>\n",
              "      <td>49</td>\n",
              "      <td>49</td>\n",
              "      <td>1.0</td>\n",
              "      <td>0.0</td>\n",
              "      <td>0.02</td>\n",
              "      <td>0.0</td>\n",
              "      <td>0.0</td>\n",
              "      <td>0.0</td>\n",
              "      <td>0.0</td>\n",
              "      <td>0.0</td>\n",
              "      <td>normal</td>\n",
              "    </tr>\n",
              "  </tbody>\n",
              "</table>\n",
              "</div>"
            ],
            "text/plain": [
              "   duration protocol_type  ... dst_host_srv_rerror_rate   label\n",
              "0         0           tcp  ...                      0.0  normal\n",
              "1         0           tcp  ...                      0.0  normal\n",
              "2         0           tcp  ...                      0.0  normal\n",
              "3         0           tcp  ...                      0.0  normal\n",
              "4         0           tcp  ...                      0.0  normal\n",
              "\n",
              "[5 rows x 42 columns]"
            ]
          },
          "metadata": {
            "tags": []
          },
          "execution_count": 3
        }
      ]
    },
    {
      "cell_type": "markdown",
      "metadata": {
        "id": "JZKuAkjJP6-U",
        "colab_type": "text"
      },
      "source": [
        "feature selection by using variance method"
      ]
    },
    {
      "cell_type": "code",
      "metadata": {
        "id": "zQpYc7w8Pme-",
        "colab_type": "code",
        "colab": {
          "base_uri": "https://localhost:8080/",
          "height": 632
        },
        "outputId": "7345d160-1add-4c5a-df8f-bc959edac3fe"
      },
      "source": [
        "print(dataset.var()['src_bytes'])\n",
        "print(dataset.var()['dst_bytes'])\n",
        "print(dataset.var()['land'])\n",
        "print(dataset.var()['wrong_fragment'])\n",
        "print(dataset.var()['urgent'])\n",
        "print(dataset.var()['hot'])\n",
        "print(dataset.var()['num_failed_logins'])\n",
        "print(dataset.var()['logged_in'])\n",
        "print(dataset.var()['lnum_compromised'])\n",
        "print(dataset.var()['lroot_shell'])\n",
        "print(dataset.var()['lsu_attempted'])\n",
        "print(dataset.var()['lnum_root'])\n",
        "print(dataset.var()['lnum_file_creations'])\n",
        "print(dataset.var()['lnum_shells'])\n",
        "print(dataset.var()['lnum_access_files'])\n",
        "#print(dataset.var()['lnum_outbound_cmds'])\n",
        "#print(dataset.var()['is_host_login'])\n",
        "print(dataset.var()['is_guest_login'])\n",
        "print(dataset.var()['count'])\n",
        "print(dataset.var()['srv_count'])\n",
        "print(dataset.var()['serror_rate'])\n",
        "print(dataset.var()['srv_serror_rate'])\n",
        "print(dataset.var()['rerror_rate'])\n",
        "print(dataset.var()['srv_rerror_rate'])\n",
        "print(dataset.var()['same_srv_rate'])\n",
        "print(dataset.var()['diff_srv_rate'])\n",
        "print(dataset.var()['srv_diff_host_rate'])\n",
        "print(dataset.var()['dst_host_count'])\n",
        "print(dataset.var()['dst_host_srv_count'])\n",
        "print(dataset.var()['dst_host_same_srv_rate'])\n",
        "print(dataset.var()['dst_host_diff_srv_rate'])\n",
        "print(dataset.var()['dst_host_same_src_port_rate'])\n",
        "print(dataset.var()['dst_host_srv_diff_host_rate'])\n",
        "print(dataset.var()['dst_host_serror_rate'])\n",
        "print(dataset.var()['dst_host_srv_serror_rate'])\n",
        "print(dataset.var()['dst_host_rerror_rate'])\n",
        "print(dataset.var()['dst_host_srv_rerror_rate'])"
      ],
      "execution_count": null,
      "outputs": [
        {
          "output_type": "stream",
          "text": [
            "976576992036.6654\n",
            "1091643891.0952706\n",
            "4.453071700180602e-05\n",
            "0.018172491590816044\n",
            "3.03630038804738e-05\n",
            "0.6116856844184144\n",
            "0.00024085837553570224\n",
            "0.12626868283082365\n",
            "3.2339838746190672\n",
            "0.0001113193556638224\n",
            "6.072508173886537e-05\n",
            "4.051043258019034\n",
            "0.009296040477405787\n",
            "0.000121440870502456\n",
            "0.001330916397839991\n",
            "0.001384663728080717\n",
            "45431.6891034859\n",
            "60674.89003505529\n",
            "0.1449456310521699\n",
            "0.14517386836860224\n",
            "0.0536495355281265\n",
            "0.05389232330783698\n",
            "0.15069129958002264\n",
            "0.006757755850526054\n",
            "0.020276896258574477\n",
            "4191.863370949552\n",
            "11244.525010698932\n",
            "0.1687402028545784\n",
            "0.011937575833318366\n",
            "0.2316583307814032\n",
            "0.0017751826094751953\n",
            "0.14485133584224127\n",
            "0.1450998566016115\n",
            "0.053171621563146344\n",
            "0.052964669234579015\n"
          ],
          "name": "stdout"
        }
      ]
    },
    {
      "cell_type": "markdown",
      "metadata": {
        "id": "KaeL8YGfQou1",
        "colab_type": "text"
      },
      "source": [
        "remove redundaant features"
      ]
    },
    {
      "cell_type": "code",
      "metadata": {
        "id": "3cxxXc-FQc5B",
        "colab_type": "code",
        "colab": {}
      },
      "source": [
        "dataset['lsu_attempted'].value_counts()\n",
        "dataset.drop('lsu_attempted', axis=1, inplace=True)\n",
        "dataset['urgent'].value_counts()\n",
        "dataset.drop('urgent', axis=1, inplace=True)\n",
        "dataset['lnum_outbound_cmds'].value_counts()\n",
        "dataset.drop('lnum_outbound_cmds', axis=1, inplace=True)\n",
        "dataset['is_host_login'].value_counts()\n",
        "dataset.drop('is_host_login', axis=1, inplace=True)\n",
        "dataset['wrong_fragment'].value_counts()\n",
        "dataset.drop('wrong_fragment', axis=1, inplace=True)\n",
        "dataset['hot'].value_counts()\n",
        "dataset.drop('hot', axis=1, inplace=True)\n",
        "dataset['num_failed_logins'].value_counts()\n",
        "dataset.drop('num_failed_logins', axis=1, inplace=True)\n",
        "dataset['logged_in'].value_counts()\n",
        "dataset.drop('logged_in', axis=1, inplace=True)\n",
        "dataset['lroot_shell'].value_counts()\n",
        "dataset.drop('lroot_shell', axis=1, inplace=True)\n",
        "dataset['lnum_file_creations'].value_counts()\n",
        "dataset.drop('lnum_file_creations', axis=1, inplace=True)\n",
        "dataset['lnum_shells'].value_counts()\n",
        "dataset.drop('lnum_shells', axis=1, inplace=True)\n",
        "dataset['lnum_access_files'].value_counts()\n",
        "dataset.drop('lnum_access_files', axis=1, inplace=True)\n",
        "dataset['is_guest_login'].value_counts()\n",
        "dataset.drop('is_guest_login', axis=1, inplace=True)\n",
        "dataset['serror_rate'].value_counts()\n",
        "dataset.drop('serror_rate', axis=1, inplace=True)\n",
        "dataset['srv_serror_rate'].value_counts()\n",
        "dataset.drop('srv_serror_rate', axis=1, inplace=True)"
      ],
      "execution_count": null,
      "outputs": []
    },
    {
      "cell_type": "code",
      "metadata": {
        "id": "xCDVhqxJQiBY",
        "colab_type": "code",
        "colab": {}
      },
      "source": [
        "dataset['rerror_rate'].value_counts()\n",
        "dataset.drop('rerror_rate', axis=1, inplace=True)\n",
        "dataset['srv_rerror_rate'].value_counts()\n",
        "dataset.drop('srv_rerror_rate', axis=1, inplace=True)\n",
        "dataset['same_srv_rate'].value_counts()\n",
        "dataset.drop('same_srv_rate', axis=1, inplace=True)\n",
        "dataset['diff_srv_rate'].value_counts()\n",
        "dataset.drop('diff_srv_rate', axis=1, inplace=True)\n",
        "dataset['srv_diff_host_rate'].value_counts()\n",
        "dataset.drop('srv_diff_host_rate', axis=1, inplace=True)\n",
        "dataset['dst_host_same_srv_rate'].value_counts()\n",
        "dataset.drop('dst_host_same_srv_rate', axis=1, inplace=True)\n",
        "dataset['dst_host_diff_srv_rate'].value_counts()\n",
        "dataset.drop('dst_host_diff_srv_rate', axis=1, inplace=True)\n",
        "dataset['dst_host_same_src_port_rate'].value_counts()\n",
        "dataset.drop('dst_host_same_src_port_rate', axis=1, inplace=True)\n",
        "dataset['dst_host_srv_diff_host_rate'].value_counts()\n",
        "dataset.drop('dst_host_srv_diff_host_rate', axis=1, inplace=True)\n",
        "dataset['dst_host_serror_rate'].value_counts()\n",
        "dataset.drop('dst_host_serror_rate', axis=1, inplace=True)\n",
        "dataset['dst_host_srv_serror_rate'].value_counts()\n",
        "dataset.drop('dst_host_srv_serror_rate', axis=1, inplace=True)\n",
        "dataset['dst_host_rerror_rate'].value_counts()\n",
        "dataset.drop('dst_host_rerror_rate', axis=1, inplace=True)\n",
        "dataset['dst_host_srv_rerror_rate'].value_counts()\n",
        "dataset.drop('dst_host_srv_rerror_rate', axis=1, inplace=True)"
      ],
      "execution_count": null,
      "outputs": []
    },
    {
      "cell_type": "code",
      "metadata": {
        "id": "a6JYa2DBQvcx",
        "colab_type": "code",
        "colab": {
          "base_uri": "https://localhost:8080/",
          "height": 219
        },
        "outputId": "b3e5f8f3-ad1f-491f-f70f-c5d4ad6deefd"
      },
      "source": [
        "dataset.head()"
      ],
      "execution_count": null,
      "outputs": [
        {
          "output_type": "execute_result",
          "data": {
            "text/html": [
              "<div>\n",
              "<style scoped>\n",
              "    .dataframe tbody tr th:only-of-type {\n",
              "        vertical-align: middle;\n",
              "    }\n",
              "\n",
              "    .dataframe tbody tr th {\n",
              "        vertical-align: top;\n",
              "    }\n",
              "\n",
              "    .dataframe thead th {\n",
              "        text-align: right;\n",
              "    }\n",
              "</style>\n",
              "<table border=\"1\" class=\"dataframe\">\n",
              "  <thead>\n",
              "    <tr style=\"text-align: right;\">\n",
              "      <th></th>\n",
              "      <th>duration</th>\n",
              "      <th>protocol_type</th>\n",
              "      <th>service</th>\n",
              "      <th>flag</th>\n",
              "      <th>src_bytes</th>\n",
              "      <th>dst_bytes</th>\n",
              "      <th>land</th>\n",
              "      <th>lnum_compromised</th>\n",
              "      <th>lnum_root</th>\n",
              "      <th>count</th>\n",
              "      <th>srv_count</th>\n",
              "      <th>dst_host_count</th>\n",
              "      <th>dst_host_srv_count</th>\n",
              "      <th>label</th>\n",
              "    </tr>\n",
              "  </thead>\n",
              "  <tbody>\n",
              "    <tr>\n",
              "      <th>0</th>\n",
              "      <td>0</td>\n",
              "      <td>tcp</td>\n",
              "      <td>http</td>\n",
              "      <td>SF</td>\n",
              "      <td>181</td>\n",
              "      <td>5450</td>\n",
              "      <td>0</td>\n",
              "      <td>0</td>\n",
              "      <td>0</td>\n",
              "      <td>8</td>\n",
              "      <td>8</td>\n",
              "      <td>9</td>\n",
              "      <td>9</td>\n",
              "      <td>normal</td>\n",
              "    </tr>\n",
              "    <tr>\n",
              "      <th>1</th>\n",
              "      <td>0</td>\n",
              "      <td>tcp</td>\n",
              "      <td>http</td>\n",
              "      <td>SF</td>\n",
              "      <td>239</td>\n",
              "      <td>486</td>\n",
              "      <td>0</td>\n",
              "      <td>0</td>\n",
              "      <td>0</td>\n",
              "      <td>8</td>\n",
              "      <td>8</td>\n",
              "      <td>19</td>\n",
              "      <td>19</td>\n",
              "      <td>normal</td>\n",
              "    </tr>\n",
              "    <tr>\n",
              "      <th>2</th>\n",
              "      <td>0</td>\n",
              "      <td>tcp</td>\n",
              "      <td>http</td>\n",
              "      <td>SF</td>\n",
              "      <td>235</td>\n",
              "      <td>1337</td>\n",
              "      <td>0</td>\n",
              "      <td>0</td>\n",
              "      <td>0</td>\n",
              "      <td>8</td>\n",
              "      <td>8</td>\n",
              "      <td>29</td>\n",
              "      <td>29</td>\n",
              "      <td>normal</td>\n",
              "    </tr>\n",
              "    <tr>\n",
              "      <th>3</th>\n",
              "      <td>0</td>\n",
              "      <td>tcp</td>\n",
              "      <td>http</td>\n",
              "      <td>SF</td>\n",
              "      <td>219</td>\n",
              "      <td>1337</td>\n",
              "      <td>0</td>\n",
              "      <td>0</td>\n",
              "      <td>0</td>\n",
              "      <td>6</td>\n",
              "      <td>6</td>\n",
              "      <td>39</td>\n",
              "      <td>39</td>\n",
              "      <td>normal</td>\n",
              "    </tr>\n",
              "    <tr>\n",
              "      <th>4</th>\n",
              "      <td>0</td>\n",
              "      <td>tcp</td>\n",
              "      <td>http</td>\n",
              "      <td>SF</td>\n",
              "      <td>217</td>\n",
              "      <td>2032</td>\n",
              "      <td>0</td>\n",
              "      <td>0</td>\n",
              "      <td>0</td>\n",
              "      <td>6</td>\n",
              "      <td>6</td>\n",
              "      <td>49</td>\n",
              "      <td>49</td>\n",
              "      <td>normal</td>\n",
              "    </tr>\n",
              "  </tbody>\n",
              "</table>\n",
              "</div>"
            ],
            "text/plain": [
              "   duration protocol_type service  ... dst_host_count  dst_host_srv_count   label\n",
              "0         0           tcp    http  ...              9                   9  normal\n",
              "1         0           tcp    http  ...             19                  19  normal\n",
              "2         0           tcp    http  ...             29                  29  normal\n",
              "3         0           tcp    http  ...             39                  39  normal\n",
              "4         0           tcp    http  ...             49                  49  normal\n",
              "\n",
              "[5 rows x 14 columns]"
            ]
          },
          "metadata": {
            "tags": []
          },
          "execution_count": 7
        }
      ]
    },
    {
      "cell_type": "code",
      "metadata": {
        "id": "W3KUwFr2Qxc5",
        "colab_type": "code",
        "colab": {}
      },
      "source": [
        "dataset['label'] = dataset['label'].replace(['back', 'buffer_overflow', 'ftp_write', 'guess_passwd', 'imap', 'ipsweep', 'land', 'loadmodule', 'multihop', 'neptune', 'nmap', 'perl', 'phf', 'pod', 'portsweep', 'rootkit', 'satan', 'smurf', 'spy', 'teardrop', 'warezclient', 'warezmaster'], 'attack')"
      ],
      "execution_count": null,
      "outputs": []
    },
    {
      "cell_type": "code",
      "metadata": {
        "id": "MTEfVYbzQ3tZ",
        "colab_type": "code",
        "colab": {
          "base_uri": "https://localhost:8080/",
          "height": 310
        },
        "outputId": "432863a5-8620-4eaf-943a-c0769c16ba51"
      },
      "source": [
        "dataset.describe()"
      ],
      "execution_count": null,
      "outputs": [
        {
          "output_type": "execute_result",
          "data": {
            "text/html": [
              "<div>\n",
              "<style scoped>\n",
              "    .dataframe tbody tr th:only-of-type {\n",
              "        vertical-align: middle;\n",
              "    }\n",
              "\n",
              "    .dataframe tbody tr th {\n",
              "        vertical-align: top;\n",
              "    }\n",
              "\n",
              "    .dataframe thead th {\n",
              "        text-align: right;\n",
              "    }\n",
              "</style>\n",
              "<table border=\"1\" class=\"dataframe\">\n",
              "  <thead>\n",
              "    <tr style=\"text-align: right;\">\n",
              "      <th></th>\n",
              "      <th>duration</th>\n",
              "      <th>src_bytes</th>\n",
              "      <th>dst_bytes</th>\n",
              "      <th>land</th>\n",
              "      <th>lnum_compromised</th>\n",
              "      <th>lnum_root</th>\n",
              "      <th>count</th>\n",
              "      <th>srv_count</th>\n",
              "      <th>dst_host_count</th>\n",
              "      <th>dst_host_srv_count</th>\n",
              "    </tr>\n",
              "  </thead>\n",
              "  <tbody>\n",
              "    <tr>\n",
              "      <th>count</th>\n",
              "      <td>494020.000000</td>\n",
              "      <td>4.940200e+05</td>\n",
              "      <td>4.940200e+05</td>\n",
              "      <td>494020.000000</td>\n",
              "      <td>494020.000000</td>\n",
              "      <td>494020.000000</td>\n",
              "      <td>494020.000000</td>\n",
              "      <td>494020.000000</td>\n",
              "      <td>494020.000000</td>\n",
              "      <td>494020.000000</td>\n",
              "    </tr>\n",
              "    <tr>\n",
              "      <th>mean</th>\n",
              "      <td>47.979400</td>\n",
              "      <td>3.025616e+03</td>\n",
              "      <td>8.685308e+02</td>\n",
              "      <td>0.000045</td>\n",
              "      <td>0.010212</td>\n",
              "      <td>0.011352</td>\n",
              "      <td>332.286361</td>\n",
              "      <td>292.907131</td>\n",
              "      <td>232.471248</td>\n",
              "      <td>188.666052</td>\n",
              "    </tr>\n",
              "    <tr>\n",
              "      <th>std</th>\n",
              "      <td>707.747185</td>\n",
              "      <td>9.882191e+05</td>\n",
              "      <td>3.304003e+04</td>\n",
              "      <td>0.006673</td>\n",
              "      <td>1.798328</td>\n",
              "      <td>2.012720</td>\n",
              "      <td>213.147107</td>\n",
              "      <td>246.322736</td>\n",
              "      <td>64.744601</td>\n",
              "      <td>106.040205</td>\n",
              "    </tr>\n",
              "    <tr>\n",
              "      <th>min</th>\n",
              "      <td>0.000000</td>\n",
              "      <td>0.000000e+00</td>\n",
              "      <td>0.000000e+00</td>\n",
              "      <td>0.000000</td>\n",
              "      <td>0.000000</td>\n",
              "      <td>0.000000</td>\n",
              "      <td>0.000000</td>\n",
              "      <td>0.000000</td>\n",
              "      <td>0.000000</td>\n",
              "      <td>0.000000</td>\n",
              "    </tr>\n",
              "    <tr>\n",
              "      <th>25%</th>\n",
              "      <td>0.000000</td>\n",
              "      <td>4.500000e+01</td>\n",
              "      <td>0.000000e+00</td>\n",
              "      <td>0.000000</td>\n",
              "      <td>0.000000</td>\n",
              "      <td>0.000000</td>\n",
              "      <td>117.000000</td>\n",
              "      <td>10.000000</td>\n",
              "      <td>255.000000</td>\n",
              "      <td>46.000000</td>\n",
              "    </tr>\n",
              "    <tr>\n",
              "      <th>50%</th>\n",
              "      <td>0.000000</td>\n",
              "      <td>5.200000e+02</td>\n",
              "      <td>0.000000e+00</td>\n",
              "      <td>0.000000</td>\n",
              "      <td>0.000000</td>\n",
              "      <td>0.000000</td>\n",
              "      <td>510.000000</td>\n",
              "      <td>510.000000</td>\n",
              "      <td>255.000000</td>\n",
              "      <td>255.000000</td>\n",
              "    </tr>\n",
              "    <tr>\n",
              "      <th>75%</th>\n",
              "      <td>0.000000</td>\n",
              "      <td>1.032000e+03</td>\n",
              "      <td>0.000000e+00</td>\n",
              "      <td>0.000000</td>\n",
              "      <td>0.000000</td>\n",
              "      <td>0.000000</td>\n",
              "      <td>511.000000</td>\n",
              "      <td>511.000000</td>\n",
              "      <td>255.000000</td>\n",
              "      <td>255.000000</td>\n",
              "    </tr>\n",
              "    <tr>\n",
              "      <th>max</th>\n",
              "      <td>58329.000000</td>\n",
              "      <td>6.933756e+08</td>\n",
              "      <td>5.155468e+06</td>\n",
              "      <td>1.000000</td>\n",
              "      <td>884.000000</td>\n",
              "      <td>993.000000</td>\n",
              "      <td>511.000000</td>\n",
              "      <td>511.000000</td>\n",
              "      <td>255.000000</td>\n",
              "      <td>255.000000</td>\n",
              "    </tr>\n",
              "  </tbody>\n",
              "</table>\n",
              "</div>"
            ],
            "text/plain": [
              "            duration     src_bytes  ...  dst_host_count  dst_host_srv_count\n",
              "count  494020.000000  4.940200e+05  ...   494020.000000       494020.000000\n",
              "mean       47.979400  3.025616e+03  ...      232.471248          188.666052\n",
              "std       707.747185  9.882191e+05  ...       64.744601          106.040205\n",
              "min         0.000000  0.000000e+00  ...        0.000000            0.000000\n",
              "25%         0.000000  4.500000e+01  ...      255.000000           46.000000\n",
              "50%         0.000000  5.200000e+02  ...      255.000000          255.000000\n",
              "75%         0.000000  1.032000e+03  ...      255.000000          255.000000\n",
              "max     58329.000000  6.933756e+08  ...      255.000000          255.000000\n",
              "\n",
              "[8 rows x 10 columns]"
            ]
          },
          "metadata": {
            "tags": []
          },
          "execution_count": 9
        }
      ]
    },
    {
      "cell_type": "code",
      "metadata": {
        "id": "4VlBTRnEV-vj",
        "colab_type": "code",
        "colab": {}
      },
      "source": [
        "x = dataset.iloc[:, :-1].values\n",
        "#x\n",
        "y = dataset.iloc[:, 13].values\n",
        "#y"
      ],
      "execution_count": null,
      "outputs": []
    },
    {
      "cell_type": "code",
      "metadata": {
        "id": "QZ85InfiWDCi",
        "colab_type": "code",
        "colab": {
          "base_uri": "https://localhost:8080/",
          "height": 140
        },
        "outputId": "9384716f-cfd6-4976-b409-6600b52756f2"
      },
      "source": [
        "x"
      ],
      "execution_count": null,
      "outputs": [
        {
          "output_type": "execute_result",
          "data": {
            "text/plain": [
              "array([[0, 'tcp', 'http', ..., 8, 9, 9],\n",
              "       [0, 'tcp', 'http', ..., 8, 19, 19],\n",
              "       [0, 'tcp', 'http', ..., 8, 29, 29],\n",
              "       ...,\n",
              "       [0, 'tcp', 'http', ..., 18, 16, 255],\n",
              "       [0, 'tcp', 'http', ..., 12, 26, 255],\n",
              "       [0, 'tcp', 'http', ..., 35, 6, 255]], dtype=object)"
            ]
          },
          "metadata": {
            "tags": []
          },
          "execution_count": 11
        }
      ]
    },
    {
      "cell_type": "code",
      "metadata": {
        "id": "mVDbKzIHl3aV",
        "colab_type": "code",
        "colab": {
          "base_uri": "https://localhost:8080/",
          "height": 34
        },
        "outputId": "2f8fba82-1377-4524-fade-ecb269f9d0a9"
      },
      "source": [
        "x.shape"
      ],
      "execution_count": null,
      "outputs": [
        {
          "output_type": "execute_result",
          "data": {
            "text/plain": [
              "(494020, 13)"
            ]
          },
          "metadata": {
            "tags": []
          },
          "execution_count": 12
        }
      ]
    },
    {
      "cell_type": "code",
      "metadata": {
        "id": "Pgza4YQ-mdd3",
        "colab_type": "code",
        "colab": {
          "base_uri": "https://localhost:8080/",
          "height": 34
        },
        "outputId": "da2f195b-7a21-483e-bfaf-1749e4935807"
      },
      "source": [
        "y.shape"
      ],
      "execution_count": null,
      "outputs": [
        {
          "output_type": "execute_result",
          "data": {
            "text/plain": [
              "(494020,)"
            ]
          },
          "metadata": {
            "tags": []
          },
          "execution_count": 13
        }
      ]
    },
    {
      "cell_type": "code",
      "metadata": {
        "id": "w8mGhIjUqdSI",
        "colab_type": "code",
        "colab": {}
      },
      "source": [
        "from sklearn.preprocessing import LabelEncoder, OneHotEncoder\n",
        "from sklearn.compose import ColumnTransformer\n",
        "labelencoder_x_1 = LabelEncoder()\n",
        "labelencoder_x_2 = LabelEncoder()\n",
        "labelencoder_x_3 = LabelEncoder()\n",
        "x[:, 1] = labelencoder_x_1.fit_transform(x[:, 1])\n",
        "x[:, 2] = labelencoder_x_2.fit_transform(x[:, 2])\n",
        "x[:, 3] = labelencoder_x_3.fit_transform(x[:, 3])"
      ],
      "execution_count": null,
      "outputs": []
    },
    {
      "cell_type": "code",
      "metadata": {
        "id": "eUnxxGVKT1HJ",
        "colab_type": "code",
        "colab": {
          "base_uri": "https://localhost:8080/",
          "height": 140
        },
        "outputId": "7de7eee2-aea4-4205-c680-5870f55b50f6"
      },
      "source": [
        "x"
      ],
      "execution_count": null,
      "outputs": [
        {
          "output_type": "execute_result",
          "data": {
            "text/plain": [
              "array([[0, 1, 22, ..., 8, 9, 9],\n",
              "       [0, 1, 22, ..., 8, 19, 19],\n",
              "       [0, 1, 22, ..., 8, 29, 29],\n",
              "       ...,\n",
              "       [0, 1, 22, ..., 18, 16, 255],\n",
              "       [0, 1, 22, ..., 12, 26, 255],\n",
              "       [0, 1, 22, ..., 35, 6, 255]], dtype=object)"
            ]
          },
          "metadata": {
            "tags": []
          },
          "execution_count": 15
        }
      ]
    },
    {
      "cell_type": "code",
      "metadata": {
        "id": "7trurduwWcqp",
        "colab_type": "code",
        "colab": {}
      },
      "source": [
        "from sklearn.model_selection import train_test_split\n",
        "X_train, X_test, y_train, y_test = train_test_split(x, y, test_size = 0.3, random_state = 0)"
      ],
      "execution_count": null,
      "outputs": []
    },
    {
      "cell_type": "code",
      "metadata": {
        "id": "jbIPmJgAWw9d",
        "colab_type": "code",
        "colab": {}
      },
      "source": [
        "# Feature Scaling\n",
        "from sklearn.preprocessing import StandardScaler\n",
        "sc = StandardScaler()\n",
        "X_train = sc.fit_transform(X_train)\n",
        "X_test = sc.transform(X_test)"
      ],
      "execution_count": null,
      "outputs": []
    },
    {
      "cell_type": "code",
      "metadata": {
        "id": "BKrkgfcAW1vj",
        "colab_type": "code",
        "colab": {
          "base_uri": "https://localhost:8080/",
          "height": 87
        },
        "outputId": "81920e96-6441-4e32-ddfe-bd814c91ef1e"
      },
      "source": [
        "from sklearn.svm import SVC\n",
        "classifier = SVC(kernel = 'linear', random_state = 0)\n",
        "classifier.fit(X_train, y_train)"
      ],
      "execution_count": null,
      "outputs": [
        {
          "output_type": "execute_result",
          "data": {
            "text/plain": [
              "SVC(C=1.0, break_ties=False, cache_size=200, class_weight=None, coef0=0.0,\n",
              "    decision_function_shape='ovr', degree=3, gamma='scale', kernel='linear',\n",
              "    max_iter=-1, probability=False, random_state=0, shrinking=True, tol=0.001,\n",
              "    verbose=False)"
            ]
          },
          "metadata": {
            "tags": []
          },
          "execution_count": 29
        }
      ]
    },
    {
      "cell_type": "code",
      "metadata": {
        "id": "wxb0B7wIW5fo",
        "colab_type": "code",
        "colab": {}
      },
      "source": [
        " #Predicting the Test set results\n",
        "y_pred = classifier.predict(X_test)"
      ],
      "execution_count": null,
      "outputs": []
    },
    {
      "cell_type": "code",
      "metadata": {
        "id": "sshxcYoSXL9N",
        "colab_type": "code",
        "colab": {
          "base_uri": "https://localhost:8080/",
          "height": 175
        },
        "outputId": "16d78b47-09c4-4c92-dec8-5fa8628a2143"
      },
      "source": [
        "from sklearn import metrics\n",
        "# Model Accuracy, how often is the classifier correct?\n",
        "print(metrics.classification_report(y_test, y_pred))"
      ],
      "execution_count": null,
      "outputs": [
        {
          "output_type": "stream",
          "text": [
            "              precision    recall  f1-score   support\n",
            "\n",
            "      attack       1.00      0.99      0.99    118851\n",
            "      normal       0.96      0.99      0.98     29355\n",
            "\n",
            "    accuracy                           0.99    148206\n",
            "   macro avg       0.98      0.99      0.98    148206\n",
            "weighted avg       0.99      0.99      0.99    148206\n",
            "\n"
          ],
          "name": "stdout"
        }
      ]
    },
    {
      "cell_type": "code",
      "metadata": {
        "id": "CPhJIsL0W-Pj",
        "colab_type": "code",
        "colab": {
          "base_uri": "https://localhost:8080/",
          "height": 52
        },
        "outputId": "91550c75-57a9-4142-de5c-5f6a49d07629"
      },
      "source": [
        " #Making the Confusion Matrix\n",
        "from sklearn.metrics import confusion_matrix\n",
        " confusion_matrix(y_test, y_pred)"
      ],
      "execution_count": null,
      "outputs": [
        {
          "output_type": "execute_result",
          "data": {
            "text/plain": [
              "array([[117667,   1184],\n",
              "       [   278,  29077]])"
            ]
          },
          "metadata": {
            "tags": []
          },
          "execution_count": 32
        }
      ]
    },
    {
      "cell_type": "code",
      "metadata": {
        "id": "TUALPumVYoje",
        "colab_type": "code",
        "colab": {}
      },
      "source": [
        "from sklearn.model_selection import GridSearchCV\n",
        "parameters = [{'C': [1, 2], 'kernel': ['linear']},\n",
        "              {'C': [1, 2], 'kernel': ['rbf'], 'gamma': [0.1, 0.2]}]\n",
        "grid_search = GridSearchCV(estimator = classifier,\n",
        "                           param_grid = parameters,\n",
        "                           scoring = 'accuracy',\n",
        "                           cv = 2,\n",
        "                           n_jobs = -1)\n",
        "grid_search = grid_search.fit(X_train, y_train)"
      ],
      "execution_count": null,
      "outputs": []
    },
    {
      "cell_type": "code",
      "metadata": {
        "id": "yu7Iul1NZEah",
        "colab_type": "code",
        "colab": {}
      },
      "source": [
        "accuracy = grid_search.best_score_"
      ],
      "execution_count": null,
      "outputs": []
    },
    {
      "cell_type": "code",
      "metadata": {
        "id": "657eVPhXihYN",
        "colab_type": "code",
        "colab": {
          "base_uri": "https://localhost:8080/",
          "height": 34
        },
        "outputId": "f9a67144-4f8d-45ae-d0c4-fef341cd15d4"
      },
      "source": [
        "accuracy*100"
      ],
      "execution_count": null,
      "outputs": [
        {
          "output_type": "execute_result",
          "data": {
            "text/plain": [
              "99.79526566304429"
            ]
          },
          "metadata": {
            "tags": []
          },
          "execution_count": 35
        }
      ]
    },
    {
      "cell_type": "code",
      "metadata": {
        "id": "-5N7_Bd0nTmd",
        "colab_type": "code",
        "colab": {}
      },
      "source": [
        ""
      ],
      "execution_count": null,
      "outputs": []
    }
  ]
}
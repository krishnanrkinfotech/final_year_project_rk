{
  "nbformat": 4,
  "nbformat_minor": 0,
  "metadata": {
    "colab": {
      "name": "classfication _algorithm.ipynb",
      "provenance": []
    },
    "kernelspec": {
      "name": "python3",
      "display_name": "Python 3"
    }
  },
  "cells": [
    {
      "cell_type": "code",
      "metadata": {
        "id": "iaA7DH2i2PQV",
        "colab_type": "code",
        "colab": {}
      },
      "source": [
        "import numpy as np\n",
        "import matplotlib.pyplot as plt\n",
        "import pandas as pd\n"
      ],
      "execution_count": 1,
      "outputs": []
    },
    {
      "cell_type": "code",
      "metadata": {
        "id": "D_4z33Xb2YbO",
        "colab_type": "code",
        "colab": {}
      },
      "source": [
        "dataset = pd.read_csv('/content/drive/My Drive/kddcup99_csv.csv')"
      ],
      "execution_count": 2,
      "outputs": []
    },
    {
      "cell_type": "code",
      "metadata": {
        "id": "BohZiYuI2gfR",
        "colab_type": "code",
        "colab": {
          "base_uri": "https://localhost:8080/",
          "height": 219
        },
        "outputId": "e6a9943f-c2b6-42c0-db5e-bfeceb6edffd"
      },
      "source": [
        "dataset.head(5)"
      ],
      "execution_count": 3,
      "outputs": [
        {
          "output_type": "execute_result",
          "data": {
            "text/html": [
              "<div>\n",
              "<style scoped>\n",
              "    .dataframe tbody tr th:only-of-type {\n",
              "        vertical-align: middle;\n",
              "    }\n",
              "\n",
              "    .dataframe tbody tr th {\n",
              "        vertical-align: top;\n",
              "    }\n",
              "\n",
              "    .dataframe thead th {\n",
              "        text-align: right;\n",
              "    }\n",
              "</style>\n",
              "<table border=\"1\" class=\"dataframe\">\n",
              "  <thead>\n",
              "    <tr style=\"text-align: right;\">\n",
              "      <th></th>\n",
              "      <th>duration</th>\n",
              "      <th>protocol_type</th>\n",
              "      <th>service</th>\n",
              "      <th>flag</th>\n",
              "      <th>src_bytes</th>\n",
              "      <th>dst_bytes</th>\n",
              "      <th>land</th>\n",
              "      <th>wrong_fragment</th>\n",
              "      <th>urgent</th>\n",
              "      <th>hot</th>\n",
              "      <th>num_failed_logins</th>\n",
              "      <th>logged_in</th>\n",
              "      <th>lnum_compromised</th>\n",
              "      <th>lroot_shell</th>\n",
              "      <th>lsu_attempted</th>\n",
              "      <th>lnum_root</th>\n",
              "      <th>lnum_file_creations</th>\n",
              "      <th>lnum_shells</th>\n",
              "      <th>lnum_access_files</th>\n",
              "      <th>lnum_outbound_cmds</th>\n",
              "      <th>is_host_login</th>\n",
              "      <th>is_guest_login</th>\n",
              "      <th>count</th>\n",
              "      <th>srv_count</th>\n",
              "      <th>serror_rate</th>\n",
              "      <th>srv_serror_rate</th>\n",
              "      <th>rerror_rate</th>\n",
              "      <th>srv_rerror_rate</th>\n",
              "      <th>same_srv_rate</th>\n",
              "      <th>diff_srv_rate</th>\n",
              "      <th>srv_diff_host_rate</th>\n",
              "      <th>dst_host_count</th>\n",
              "      <th>dst_host_srv_count</th>\n",
              "      <th>dst_host_same_srv_rate</th>\n",
              "      <th>dst_host_diff_srv_rate</th>\n",
              "      <th>dst_host_same_src_port_rate</th>\n",
              "      <th>dst_host_srv_diff_host_rate</th>\n",
              "      <th>dst_host_serror_rate</th>\n",
              "      <th>dst_host_srv_serror_rate</th>\n",
              "      <th>dst_host_rerror_rate</th>\n",
              "      <th>dst_host_srv_rerror_rate</th>\n",
              "      <th>label</th>\n",
              "    </tr>\n",
              "  </thead>\n",
              "  <tbody>\n",
              "    <tr>\n",
              "      <th>0</th>\n",
              "      <td>0</td>\n",
              "      <td>tcp</td>\n",
              "      <td>http</td>\n",
              "      <td>SF</td>\n",
              "      <td>181</td>\n",
              "      <td>5450</td>\n",
              "      <td>0</td>\n",
              "      <td>0</td>\n",
              "      <td>0</td>\n",
              "      <td>0</td>\n",
              "      <td>0</td>\n",
              "      <td>1</td>\n",
              "      <td>0</td>\n",
              "      <td>0</td>\n",
              "      <td>0</td>\n",
              "      <td>0</td>\n",
              "      <td>0</td>\n",
              "      <td>0</td>\n",
              "      <td>0</td>\n",
              "      <td>0</td>\n",
              "      <td>0</td>\n",
              "      <td>0</td>\n",
              "      <td>8</td>\n",
              "      <td>8</td>\n",
              "      <td>0.0</td>\n",
              "      <td>0.0</td>\n",
              "      <td>0.0</td>\n",
              "      <td>0.0</td>\n",
              "      <td>1.0</td>\n",
              "      <td>0.0</td>\n",
              "      <td>0.0</td>\n",
              "      <td>9</td>\n",
              "      <td>9</td>\n",
              "      <td>1.0</td>\n",
              "      <td>0.0</td>\n",
              "      <td>0.11</td>\n",
              "      <td>0.0</td>\n",
              "      <td>0.0</td>\n",
              "      <td>0.0</td>\n",
              "      <td>0.0</td>\n",
              "      <td>0.0</td>\n",
              "      <td>normal</td>\n",
              "    </tr>\n",
              "    <tr>\n",
              "      <th>1</th>\n",
              "      <td>0</td>\n",
              "      <td>tcp</td>\n",
              "      <td>http</td>\n",
              "      <td>SF</td>\n",
              "      <td>239</td>\n",
              "      <td>486</td>\n",
              "      <td>0</td>\n",
              "      <td>0</td>\n",
              "      <td>0</td>\n",
              "      <td>0</td>\n",
              "      <td>0</td>\n",
              "      <td>1</td>\n",
              "      <td>0</td>\n",
              "      <td>0</td>\n",
              "      <td>0</td>\n",
              "      <td>0</td>\n",
              "      <td>0</td>\n",
              "      <td>0</td>\n",
              "      <td>0</td>\n",
              "      <td>0</td>\n",
              "      <td>0</td>\n",
              "      <td>0</td>\n",
              "      <td>8</td>\n",
              "      <td>8</td>\n",
              "      <td>0.0</td>\n",
              "      <td>0.0</td>\n",
              "      <td>0.0</td>\n",
              "      <td>0.0</td>\n",
              "      <td>1.0</td>\n",
              "      <td>0.0</td>\n",
              "      <td>0.0</td>\n",
              "      <td>19</td>\n",
              "      <td>19</td>\n",
              "      <td>1.0</td>\n",
              "      <td>0.0</td>\n",
              "      <td>0.05</td>\n",
              "      <td>0.0</td>\n",
              "      <td>0.0</td>\n",
              "      <td>0.0</td>\n",
              "      <td>0.0</td>\n",
              "      <td>0.0</td>\n",
              "      <td>normal</td>\n",
              "    </tr>\n",
              "    <tr>\n",
              "      <th>2</th>\n",
              "      <td>0</td>\n",
              "      <td>tcp</td>\n",
              "      <td>http</td>\n",
              "      <td>SF</td>\n",
              "      <td>235</td>\n",
              "      <td>1337</td>\n",
              "      <td>0</td>\n",
              "      <td>0</td>\n",
              "      <td>0</td>\n",
              "      <td>0</td>\n",
              "      <td>0</td>\n",
              "      <td>1</td>\n",
              "      <td>0</td>\n",
              "      <td>0</td>\n",
              "      <td>0</td>\n",
              "      <td>0</td>\n",
              "      <td>0</td>\n",
              "      <td>0</td>\n",
              "      <td>0</td>\n",
              "      <td>0</td>\n",
              "      <td>0</td>\n",
              "      <td>0</td>\n",
              "      <td>8</td>\n",
              "      <td>8</td>\n",
              "      <td>0.0</td>\n",
              "      <td>0.0</td>\n",
              "      <td>0.0</td>\n",
              "      <td>0.0</td>\n",
              "      <td>1.0</td>\n",
              "      <td>0.0</td>\n",
              "      <td>0.0</td>\n",
              "      <td>29</td>\n",
              "      <td>29</td>\n",
              "      <td>1.0</td>\n",
              "      <td>0.0</td>\n",
              "      <td>0.03</td>\n",
              "      <td>0.0</td>\n",
              "      <td>0.0</td>\n",
              "      <td>0.0</td>\n",
              "      <td>0.0</td>\n",
              "      <td>0.0</td>\n",
              "      <td>normal</td>\n",
              "    </tr>\n",
              "    <tr>\n",
              "      <th>3</th>\n",
              "      <td>0</td>\n",
              "      <td>tcp</td>\n",
              "      <td>http</td>\n",
              "      <td>SF</td>\n",
              "      <td>219</td>\n",
              "      <td>1337</td>\n",
              "      <td>0</td>\n",
              "      <td>0</td>\n",
              "      <td>0</td>\n",
              "      <td>0</td>\n",
              "      <td>0</td>\n",
              "      <td>1</td>\n",
              "      <td>0</td>\n",
              "      <td>0</td>\n",
              "      <td>0</td>\n",
              "      <td>0</td>\n",
              "      <td>0</td>\n",
              "      <td>0</td>\n",
              "      <td>0</td>\n",
              "      <td>0</td>\n",
              "      <td>0</td>\n",
              "      <td>0</td>\n",
              "      <td>6</td>\n",
              "      <td>6</td>\n",
              "      <td>0.0</td>\n",
              "      <td>0.0</td>\n",
              "      <td>0.0</td>\n",
              "      <td>0.0</td>\n",
              "      <td>1.0</td>\n",
              "      <td>0.0</td>\n",
              "      <td>0.0</td>\n",
              "      <td>39</td>\n",
              "      <td>39</td>\n",
              "      <td>1.0</td>\n",
              "      <td>0.0</td>\n",
              "      <td>0.03</td>\n",
              "      <td>0.0</td>\n",
              "      <td>0.0</td>\n",
              "      <td>0.0</td>\n",
              "      <td>0.0</td>\n",
              "      <td>0.0</td>\n",
              "      <td>normal</td>\n",
              "    </tr>\n",
              "    <tr>\n",
              "      <th>4</th>\n",
              "      <td>0</td>\n",
              "      <td>tcp</td>\n",
              "      <td>http</td>\n",
              "      <td>SF</td>\n",
              "      <td>217</td>\n",
              "      <td>2032</td>\n",
              "      <td>0</td>\n",
              "      <td>0</td>\n",
              "      <td>0</td>\n",
              "      <td>0</td>\n",
              "      <td>0</td>\n",
              "      <td>1</td>\n",
              "      <td>0</td>\n",
              "      <td>0</td>\n",
              "      <td>0</td>\n",
              "      <td>0</td>\n",
              "      <td>0</td>\n",
              "      <td>0</td>\n",
              "      <td>0</td>\n",
              "      <td>0</td>\n",
              "      <td>0</td>\n",
              "      <td>0</td>\n",
              "      <td>6</td>\n",
              "      <td>6</td>\n",
              "      <td>0.0</td>\n",
              "      <td>0.0</td>\n",
              "      <td>0.0</td>\n",
              "      <td>0.0</td>\n",
              "      <td>1.0</td>\n",
              "      <td>0.0</td>\n",
              "      <td>0.0</td>\n",
              "      <td>49</td>\n",
              "      <td>49</td>\n",
              "      <td>1.0</td>\n",
              "      <td>0.0</td>\n",
              "      <td>0.02</td>\n",
              "      <td>0.0</td>\n",
              "      <td>0.0</td>\n",
              "      <td>0.0</td>\n",
              "      <td>0.0</td>\n",
              "      <td>0.0</td>\n",
              "      <td>normal</td>\n",
              "    </tr>\n",
              "  </tbody>\n",
              "</table>\n",
              "</div>"
            ],
            "text/plain": [
              "   duration protocol_type  ... dst_host_srv_rerror_rate   label\n",
              "0         0           tcp  ...                      0.0  normal\n",
              "1         0           tcp  ...                      0.0  normal\n",
              "2         0           tcp  ...                      0.0  normal\n",
              "3         0           tcp  ...                      0.0  normal\n",
              "4         0           tcp  ...                      0.0  normal\n",
              "\n",
              "[5 rows x 42 columns]"
            ]
          },
          "metadata": {
            "tags": []
          },
          "execution_count": 3
        }
      ]
    },
    {
      "cell_type": "markdown",
      "metadata": {
        "id": "YnJU-c7-OmCj",
        "colab_type": "text"
      },
      "source": [
        "selecting the feature from varaiance method\n"
      ]
    },
    {
      "cell_type": "code",
      "metadata": {
        "id": "cLTqf4TaKgKd",
        "colab_type": "code",
        "colab": {
          "base_uri": "https://localhost:8080/",
          "height": 70
        },
        "outputId": "f4343379-737b-4de8-f87f-2551c2e602c1"
      },
      "source": [
        "print(dataset.var()['src_bytes'])\n",
        "print(dataset.var()['dst_bytes'])\n",
        "print(dataset.var()['land'])"
      ],
      "execution_count": 4,
      "outputs": [
        {
          "output_type": "stream",
          "text": [
            "976576992036.6654\n",
            "1091643891.0952706\n",
            "4.453071700180602e-05\n"
          ],
          "name": "stdout"
        }
      ]
    },
    {
      "cell_type": "code",
      "metadata": {
        "id": "FY0mANI1L7r6",
        "colab_type": "code",
        "colab": {
          "base_uri": "https://localhost:8080/",
          "height": 70
        },
        "outputId": "791d7ea0-6e5d-4f2c-a874-9ce8b91fe424"
      },
      "source": [
        "print(dataset.var()['wrong_fragment'])\n",
        "print(dataset.var()['urgent'])\n",
        "print(dataset.var()['hot'])"
      ],
      "execution_count": 5,
      "outputs": [
        {
          "output_type": "stream",
          "text": [
            "0.018172491590816044\n",
            "3.03630038804738e-05\n",
            "0.6116856844184144\n"
          ],
          "name": "stdout"
        }
      ]
    },
    {
      "cell_type": "code",
      "metadata": {
        "id": "rXitidVqMW30",
        "colab_type": "code",
        "colab": {
          "base_uri": "https://localhost:8080/",
          "height": 105
        },
        "outputId": "c6162402-3ef5-4aee-c906-57dab7e623d9"
      },
      "source": [
        "print(dataset.var()['num_failed_logins'])\n",
        "print(dataset.var()['logged_in'])\n",
        "print(dataset.var()['lnum_compromised'])\n",
        "print(dataset.var()['lroot_shell'])\n",
        "print(dataset.var()['lsu_attempted'])"
      ],
      "execution_count": 6,
      "outputs": [
        {
          "output_type": "stream",
          "text": [
            "0.00024085837553570224\n",
            "0.12626868283082365\n",
            "3.2339838746190672\n",
            "0.0001113193556638224\n",
            "6.072508173886537e-05\n"
          ],
          "name": "stdout"
        }
      ]
    },
    {
      "cell_type": "code",
      "metadata": {
        "id": "0R-GuhVINEJG",
        "colab_type": "code",
        "colab": {
          "base_uri": "https://localhost:8080/",
          "height": 105
        },
        "outputId": "727bb456-dd6f-449f-d6d0-d8c929063784"
      },
      "source": [
        "print(dataset.var()['lnum_root'])\n",
        "print(dataset.var()['lnum_file_creations'])\n",
        "print(dataset.var()['lnum_shells'])\n",
        "print(dataset.var()['lnum_access_files'])\n",
        "#print(dataset.var()['lnum_outbound_cmds'])\n",
        "#print(dataset.var()['is_host_login'])\n",
        "print(dataset.var()['is_guest_login'])"
      ],
      "execution_count": 7,
      "outputs": [
        {
          "output_type": "stream",
          "text": [
            "4.051043258019034\n",
            "0.009296040477405787\n",
            "0.000121440870502456\n",
            "0.001330916397839991\n",
            "0.001384663728080717\n"
          ],
          "name": "stdout"
        }
      ]
    },
    {
      "cell_type": "code",
      "metadata": {
        "id": "-us0r02WOkiW",
        "colab_type": "code",
        "colab": {
          "base_uri": "https://localhost:8080/",
          "height": 245
        },
        "outputId": "0ce6082d-a0d1-48f0-a779-e01fdbc2cfb6"
      },
      "source": [
        "print(dataset.var()['count'])\n",
        "print(dataset.var()['srv_count'])\n",
        "print(dataset.var()['serror_rate'])\n",
        "print(dataset.var()['srv_serror_rate'])\n",
        "print(dataset.var()['rerror_rate'])\n",
        "print(dataset.var()['srv_rerror_rate'])\n",
        "print(dataset.var()['same_srv_rate'])\n",
        "print(dataset.var()['diff_srv_rate'])\n",
        "print(dataset.var()['srv_diff_host_rate'])\n",
        "print(dataset.var()['dst_host_count'])\n",
        "print(dataset.var()['dst_host_srv_count'])\n",
        "print(dataset.var()['dst_host_same_srv_rate'])\n",
        "print(dataset.var()['dst_host_diff_srv_rate'])\n",
        "\n"
      ],
      "execution_count": 8,
      "outputs": [
        {
          "output_type": "stream",
          "text": [
            "45431.6891034859\n",
            "60674.89003505529\n",
            "0.1449456310521699\n",
            "0.14517386836860224\n",
            "0.0536495355281265\n",
            "0.05389232330783698\n",
            "0.15069129958002264\n",
            "0.006757755850526054\n",
            "0.020276896258574477\n",
            "4191.863370949552\n",
            "11244.525010698932\n",
            "0.1687402028545784\n",
            "0.011937575833318366\n"
          ],
          "name": "stdout"
        }
      ]
    },
    {
      "cell_type": "code",
      "metadata": {
        "id": "JvFuOM7qRPTD",
        "colab_type": "code",
        "colab": {
          "base_uri": "https://localhost:8080/",
          "height": 122
        },
        "outputId": "117a29d6-84ef-4b00-9c7e-07741e49be7c"
      },
      "source": [
        "print(dataset.var()['dst_host_same_src_port_rate'])\n",
        "print(dataset.var()['dst_host_srv_diff_host_rate'])\n",
        "print(dataset.var()['dst_host_serror_rate'])\n",
        "print(dataset.var()['dst_host_srv_serror_rate'])\n",
        "print(dataset.var()['dst_host_rerror_rate'])\n",
        "print(dataset.var()['dst_host_srv_rerror_rate'])"
      ],
      "execution_count": 9,
      "outputs": [
        {
          "output_type": "stream",
          "text": [
            "0.2316583307814032\n",
            "0.0017751826094751953\n",
            "0.14485133584224127\n",
            "0.1450998566016115\n",
            "0.053171621563146344\n",
            "0.052964669234579015\n"
          ],
          "name": "stdout"
        }
      ]
    },
    {
      "cell_type": "markdown",
      "metadata": {
        "id": "dI5jS0UWSfIk",
        "colab_type": "text"
      },
      "source": [
        "remove redudunant feature"
      ]
    },
    {
      "cell_type": "code",
      "metadata": {
        "id": "ZfwMPjfjJzQb",
        "colab_type": "code",
        "colab": {}
      },
      "source": [
        "\n",
        "dataset['lsu_attempted'].value_counts()\n",
        "dataset.drop('lsu_attempted', axis=1, inplace=True)\n",
        "dataset['urgent'].value_counts()\n",
        "dataset.drop('urgent', axis=1, inplace=True)\n",
        "dataset['lnum_outbound_cmds'].value_counts()\n",
        "dataset.drop('lnum_outbound_cmds', axis=1, inplace=True)\n",
        "dataset['is_host_login'].value_counts()\n",
        "dataset.drop('is_host_login', axis=1, inplace=True)\n",
        "dataset['wrong_fragment'].value_counts()\n",
        "dataset.drop('wrong_fragment', axis=1, inplace=True)\n",
        "dataset['hot'].value_counts()\n",
        "dataset.drop('hot', axis=1, inplace=True)\n",
        "dataset['num_failed_logins'].value_counts()\n",
        "dataset.drop('num_failed_logins', axis=1, inplace=True)\n",
        "dataset['logged_in'].value_counts()\n",
        "dataset.drop('logged_in', axis=1, inplace=True)\n",
        "dataset['lroot_shell'].value_counts()\n",
        "dataset.drop('lroot_shell', axis=1, inplace=True)\n",
        "dataset['lnum_file_creations'].value_counts()\n",
        "dataset.drop('lnum_file_creations', axis=1, inplace=True)\n",
        "dataset['lnum_shells'].value_counts()\n",
        "dataset.drop('lnum_shells', axis=1, inplace=True)\n",
        "dataset['lnum_access_files'].value_counts()\n",
        "dataset.drop('lnum_access_files', axis=1, inplace=True)\n",
        "dataset['is_guest_login'].value_counts()\n",
        "dataset.drop('is_guest_login', axis=1, inplace=True)\n",
        "dataset['serror_rate'].value_counts()\n",
        "dataset.drop('serror_rate', axis=1, inplace=True)\n",
        "dataset['srv_serror_rate'].value_counts()\n",
        "dataset.drop('srv_serror_rate', axis=1, inplace=True)\n"
      ],
      "execution_count": 10,
      "outputs": []
    },
    {
      "cell_type": "code",
      "metadata": {
        "id": "L2ntaD9VWZlv",
        "colab_type": "code",
        "colab": {}
      },
      "source": [
        "dataset['rerror_rate'].value_counts()\n",
        "dataset.drop('rerror_rate', axis=1, inplace=True)\n",
        "dataset['srv_rerror_rate'].value_counts()\n",
        "dataset.drop('srv_rerror_rate', axis=1, inplace=True)\n",
        "dataset['same_srv_rate'].value_counts()\n",
        "dataset.drop('same_srv_rate', axis=1, inplace=True)\n",
        "dataset['diff_srv_rate'].value_counts()\n",
        "dataset.drop('diff_srv_rate', axis=1, inplace=True)\n",
        "dataset['srv_diff_host_rate'].value_counts()\n",
        "dataset.drop('srv_diff_host_rate', axis=1, inplace=True)\n",
        "dataset['dst_host_same_srv_rate'].value_counts()\n",
        "dataset.drop('dst_host_same_srv_rate', axis=1, inplace=True)\n",
        "dataset['dst_host_diff_srv_rate'].value_counts()\n",
        "dataset.drop('dst_host_diff_srv_rate', axis=1, inplace=True)\n",
        "dataset['dst_host_same_src_port_rate'].value_counts()\n",
        "dataset.drop('dst_host_same_src_port_rate', axis=1, inplace=True)\n",
        "dataset['dst_host_srv_diff_host_rate'].value_counts()\n",
        "dataset.drop('dst_host_srv_diff_host_rate', axis=1, inplace=True)\n",
        "dataset['dst_host_serror_rate'].value_counts()\n",
        "dataset.drop('dst_host_serror_rate', axis=1, inplace=True)\n",
        "dataset['dst_host_srv_serror_rate'].value_counts()\n",
        "dataset.drop('dst_host_srv_serror_rate', axis=1, inplace=True)\n",
        "dataset['dst_host_rerror_rate'].value_counts()\n",
        "dataset.drop('dst_host_rerror_rate', axis=1, inplace=True)\n",
        "dataset['dst_host_srv_rerror_rate'].value_counts()\n",
        "dataset.drop('dst_host_srv_rerror_rate', axis=1, inplace=True)\n",
        "\n"
      ],
      "execution_count": 11,
      "outputs": []
    },
    {
      "cell_type": "code",
      "metadata": {
        "id": "H-lwYB16SoTL",
        "colab_type": "code",
        "colab": {
          "base_uri": "https://localhost:8080/",
          "height": 219
        },
        "outputId": "35901ed0-452f-4dd2-ac98-57973da8a50a"
      },
      "source": [
        "dataset.head()\n",
        "#dataset.describe()"
      ],
      "execution_count": 12,
      "outputs": [
        {
          "output_type": "execute_result",
          "data": {
            "text/html": [
              "<div>\n",
              "<style scoped>\n",
              "    .dataframe tbody tr th:only-of-type {\n",
              "        vertical-align: middle;\n",
              "    }\n",
              "\n",
              "    .dataframe tbody tr th {\n",
              "        vertical-align: top;\n",
              "    }\n",
              "\n",
              "    .dataframe thead th {\n",
              "        text-align: right;\n",
              "    }\n",
              "</style>\n",
              "<table border=\"1\" class=\"dataframe\">\n",
              "  <thead>\n",
              "    <tr style=\"text-align: right;\">\n",
              "      <th></th>\n",
              "      <th>duration</th>\n",
              "      <th>protocol_type</th>\n",
              "      <th>service</th>\n",
              "      <th>flag</th>\n",
              "      <th>src_bytes</th>\n",
              "      <th>dst_bytes</th>\n",
              "      <th>land</th>\n",
              "      <th>lnum_compromised</th>\n",
              "      <th>lnum_root</th>\n",
              "      <th>count</th>\n",
              "      <th>srv_count</th>\n",
              "      <th>dst_host_count</th>\n",
              "      <th>dst_host_srv_count</th>\n",
              "      <th>label</th>\n",
              "    </tr>\n",
              "  </thead>\n",
              "  <tbody>\n",
              "    <tr>\n",
              "      <th>0</th>\n",
              "      <td>0</td>\n",
              "      <td>tcp</td>\n",
              "      <td>http</td>\n",
              "      <td>SF</td>\n",
              "      <td>181</td>\n",
              "      <td>5450</td>\n",
              "      <td>0</td>\n",
              "      <td>0</td>\n",
              "      <td>0</td>\n",
              "      <td>8</td>\n",
              "      <td>8</td>\n",
              "      <td>9</td>\n",
              "      <td>9</td>\n",
              "      <td>normal</td>\n",
              "    </tr>\n",
              "    <tr>\n",
              "      <th>1</th>\n",
              "      <td>0</td>\n",
              "      <td>tcp</td>\n",
              "      <td>http</td>\n",
              "      <td>SF</td>\n",
              "      <td>239</td>\n",
              "      <td>486</td>\n",
              "      <td>0</td>\n",
              "      <td>0</td>\n",
              "      <td>0</td>\n",
              "      <td>8</td>\n",
              "      <td>8</td>\n",
              "      <td>19</td>\n",
              "      <td>19</td>\n",
              "      <td>normal</td>\n",
              "    </tr>\n",
              "    <tr>\n",
              "      <th>2</th>\n",
              "      <td>0</td>\n",
              "      <td>tcp</td>\n",
              "      <td>http</td>\n",
              "      <td>SF</td>\n",
              "      <td>235</td>\n",
              "      <td>1337</td>\n",
              "      <td>0</td>\n",
              "      <td>0</td>\n",
              "      <td>0</td>\n",
              "      <td>8</td>\n",
              "      <td>8</td>\n",
              "      <td>29</td>\n",
              "      <td>29</td>\n",
              "      <td>normal</td>\n",
              "    </tr>\n",
              "    <tr>\n",
              "      <th>3</th>\n",
              "      <td>0</td>\n",
              "      <td>tcp</td>\n",
              "      <td>http</td>\n",
              "      <td>SF</td>\n",
              "      <td>219</td>\n",
              "      <td>1337</td>\n",
              "      <td>0</td>\n",
              "      <td>0</td>\n",
              "      <td>0</td>\n",
              "      <td>6</td>\n",
              "      <td>6</td>\n",
              "      <td>39</td>\n",
              "      <td>39</td>\n",
              "      <td>normal</td>\n",
              "    </tr>\n",
              "    <tr>\n",
              "      <th>4</th>\n",
              "      <td>0</td>\n",
              "      <td>tcp</td>\n",
              "      <td>http</td>\n",
              "      <td>SF</td>\n",
              "      <td>217</td>\n",
              "      <td>2032</td>\n",
              "      <td>0</td>\n",
              "      <td>0</td>\n",
              "      <td>0</td>\n",
              "      <td>6</td>\n",
              "      <td>6</td>\n",
              "      <td>49</td>\n",
              "      <td>49</td>\n",
              "      <td>normal</td>\n",
              "    </tr>\n",
              "  </tbody>\n",
              "</table>\n",
              "</div>"
            ],
            "text/plain": [
              "   duration protocol_type service  ... dst_host_count  dst_host_srv_count   label\n",
              "0         0           tcp    http  ...              9                   9  normal\n",
              "1         0           tcp    http  ...             19                  19  normal\n",
              "2         0           tcp    http  ...             29                  29  normal\n",
              "3         0           tcp    http  ...             39                  39  normal\n",
              "4         0           tcp    http  ...             49                  49  normal\n",
              "\n",
              "[5 rows x 14 columns]"
            ]
          },
          "metadata": {
            "tags": []
          },
          "execution_count": 12
        }
      ]
    },
    {
      "cell_type": "code",
      "metadata": {
        "id": "6EKMk_zJ2lBC",
        "colab_type": "code",
        "colab": {}
      },
      "source": [
        "dataset['label'] = dataset['label'].replace(['back', 'buffer_overflow', 'ftp_write', 'guess_passwd', 'imap', 'ipsweep', 'land', 'loadmodule', 'multihop', 'neptune', 'nmap', 'perl', 'phf', 'pod', 'portsweep', 'rootkit', 'satan', 'smurf', 'spy', 'teardrop', 'warezclient', 'warezmaster'], 'attack')"
      ],
      "execution_count": 13,
      "outputs": []
    },
    {
      "cell_type": "code",
      "metadata": {
        "id": "5HFnnqM1lGCn",
        "colab_type": "code",
        "colab": {
          "base_uri": "https://localhost:8080/",
          "height": 310
        },
        "outputId": "c53abf2b-b900-46d0-f040-82b895fb2999"
      },
      "source": [
        "dataset.describe()"
      ],
      "execution_count": 14,
      "outputs": [
        {
          "output_type": "execute_result",
          "data": {
            "text/html": [
              "<div>\n",
              "<style scoped>\n",
              "    .dataframe tbody tr th:only-of-type {\n",
              "        vertical-align: middle;\n",
              "    }\n",
              "\n",
              "    .dataframe tbody tr th {\n",
              "        vertical-align: top;\n",
              "    }\n",
              "\n",
              "    .dataframe thead th {\n",
              "        text-align: right;\n",
              "    }\n",
              "</style>\n",
              "<table border=\"1\" class=\"dataframe\">\n",
              "  <thead>\n",
              "    <tr style=\"text-align: right;\">\n",
              "      <th></th>\n",
              "      <th>duration</th>\n",
              "      <th>src_bytes</th>\n",
              "      <th>dst_bytes</th>\n",
              "      <th>land</th>\n",
              "      <th>lnum_compromised</th>\n",
              "      <th>lnum_root</th>\n",
              "      <th>count</th>\n",
              "      <th>srv_count</th>\n",
              "      <th>dst_host_count</th>\n",
              "      <th>dst_host_srv_count</th>\n",
              "    </tr>\n",
              "  </thead>\n",
              "  <tbody>\n",
              "    <tr>\n",
              "      <th>count</th>\n",
              "      <td>494020.000000</td>\n",
              "      <td>4.940200e+05</td>\n",
              "      <td>4.940200e+05</td>\n",
              "      <td>494020.000000</td>\n",
              "      <td>494020.000000</td>\n",
              "      <td>494020.000000</td>\n",
              "      <td>494020.000000</td>\n",
              "      <td>494020.000000</td>\n",
              "      <td>494020.000000</td>\n",
              "      <td>494020.000000</td>\n",
              "    </tr>\n",
              "    <tr>\n",
              "      <th>mean</th>\n",
              "      <td>47.979400</td>\n",
              "      <td>3.025616e+03</td>\n",
              "      <td>8.685308e+02</td>\n",
              "      <td>0.000045</td>\n",
              "      <td>0.010212</td>\n",
              "      <td>0.011352</td>\n",
              "      <td>332.286361</td>\n",
              "      <td>292.907131</td>\n",
              "      <td>232.471248</td>\n",
              "      <td>188.666052</td>\n",
              "    </tr>\n",
              "    <tr>\n",
              "      <th>std</th>\n",
              "      <td>707.747185</td>\n",
              "      <td>9.882191e+05</td>\n",
              "      <td>3.304003e+04</td>\n",
              "      <td>0.006673</td>\n",
              "      <td>1.798328</td>\n",
              "      <td>2.012720</td>\n",
              "      <td>213.147107</td>\n",
              "      <td>246.322736</td>\n",
              "      <td>64.744601</td>\n",
              "      <td>106.040205</td>\n",
              "    </tr>\n",
              "    <tr>\n",
              "      <th>min</th>\n",
              "      <td>0.000000</td>\n",
              "      <td>0.000000e+00</td>\n",
              "      <td>0.000000e+00</td>\n",
              "      <td>0.000000</td>\n",
              "      <td>0.000000</td>\n",
              "      <td>0.000000</td>\n",
              "      <td>0.000000</td>\n",
              "      <td>0.000000</td>\n",
              "      <td>0.000000</td>\n",
              "      <td>0.000000</td>\n",
              "    </tr>\n",
              "    <tr>\n",
              "      <th>25%</th>\n",
              "      <td>0.000000</td>\n",
              "      <td>4.500000e+01</td>\n",
              "      <td>0.000000e+00</td>\n",
              "      <td>0.000000</td>\n",
              "      <td>0.000000</td>\n",
              "      <td>0.000000</td>\n",
              "      <td>117.000000</td>\n",
              "      <td>10.000000</td>\n",
              "      <td>255.000000</td>\n",
              "      <td>46.000000</td>\n",
              "    </tr>\n",
              "    <tr>\n",
              "      <th>50%</th>\n",
              "      <td>0.000000</td>\n",
              "      <td>5.200000e+02</td>\n",
              "      <td>0.000000e+00</td>\n",
              "      <td>0.000000</td>\n",
              "      <td>0.000000</td>\n",
              "      <td>0.000000</td>\n",
              "      <td>510.000000</td>\n",
              "      <td>510.000000</td>\n",
              "      <td>255.000000</td>\n",
              "      <td>255.000000</td>\n",
              "    </tr>\n",
              "    <tr>\n",
              "      <th>75%</th>\n",
              "      <td>0.000000</td>\n",
              "      <td>1.032000e+03</td>\n",
              "      <td>0.000000e+00</td>\n",
              "      <td>0.000000</td>\n",
              "      <td>0.000000</td>\n",
              "      <td>0.000000</td>\n",
              "      <td>511.000000</td>\n",
              "      <td>511.000000</td>\n",
              "      <td>255.000000</td>\n",
              "      <td>255.000000</td>\n",
              "    </tr>\n",
              "    <tr>\n",
              "      <th>max</th>\n",
              "      <td>58329.000000</td>\n",
              "      <td>6.933756e+08</td>\n",
              "      <td>5.155468e+06</td>\n",
              "      <td>1.000000</td>\n",
              "      <td>884.000000</td>\n",
              "      <td>993.000000</td>\n",
              "      <td>511.000000</td>\n",
              "      <td>511.000000</td>\n",
              "      <td>255.000000</td>\n",
              "      <td>255.000000</td>\n",
              "    </tr>\n",
              "  </tbody>\n",
              "</table>\n",
              "</div>"
            ],
            "text/plain": [
              "            duration     src_bytes  ...  dst_host_count  dst_host_srv_count\n",
              "count  494020.000000  4.940200e+05  ...   494020.000000       494020.000000\n",
              "mean       47.979400  3.025616e+03  ...      232.471248          188.666052\n",
              "std       707.747185  9.882191e+05  ...       64.744601          106.040205\n",
              "min         0.000000  0.000000e+00  ...        0.000000            0.000000\n",
              "25%         0.000000  4.500000e+01  ...      255.000000           46.000000\n",
              "50%         0.000000  5.200000e+02  ...      255.000000          255.000000\n",
              "75%         0.000000  1.032000e+03  ...      255.000000          255.000000\n",
              "max     58329.000000  6.933756e+08  ...      255.000000          255.000000\n",
              "\n",
              "[8 rows x 10 columns]"
            ]
          },
          "metadata": {
            "tags": []
          },
          "execution_count": 14
        }
      ]
    },
    {
      "cell_type": "code",
      "metadata": {
        "id": "mDJ99uAW2p3J",
        "colab_type": "code",
        "colab": {}
      },
      "source": [
        "x = dataset.iloc[:, :-1].values\n",
        "#x\n",
        "y = dataset.iloc[:, 13].values\n",
        "#y"
      ],
      "execution_count": 15,
      "outputs": []
    },
    {
      "cell_type": "code",
      "metadata": {
        "id": "S12iB3mjTKl9",
        "colab_type": "code",
        "colab": {
          "base_uri": "https://localhost:8080/",
          "height": 140
        },
        "outputId": "daffb545-48f8-4bc7-8449-e5ef6ff6de3c"
      },
      "source": [
        "x"
      ],
      "execution_count": 16,
      "outputs": [
        {
          "output_type": "execute_result",
          "data": {
            "text/plain": [
              "array([[0, 'tcp', 'http', ..., 8, 9, 9],\n",
              "       [0, 'tcp', 'http', ..., 8, 19, 19],\n",
              "       [0, 'tcp', 'http', ..., 8, 29, 29],\n",
              "       ...,\n",
              "       [0, 'tcp', 'http', ..., 18, 16, 255],\n",
              "       [0, 'tcp', 'http', ..., 12, 26, 255],\n",
              "       [0, 'tcp', 'http', ..., 35, 6, 255]], dtype=object)"
            ]
          },
          "metadata": {
            "tags": []
          },
          "execution_count": 16
        }
      ]
    },
    {
      "cell_type": "code",
      "metadata": {
        "id": "mVDbKzIHl3aV",
        "colab_type": "code",
        "colab": {
          "base_uri": "https://localhost:8080/",
          "height": 34
        },
        "outputId": "18bc4adc-aa1c-4807-c31a-fcb2e187e1d2"
      },
      "source": [
        "x.shape"
      ],
      "execution_count": 17,
      "outputs": [
        {
          "output_type": "execute_result",
          "data": {
            "text/plain": [
              "(494020, 13)"
            ]
          },
          "metadata": {
            "tags": []
          },
          "execution_count": 17
        }
      ]
    },
    {
      "cell_type": "code",
      "metadata": {
        "id": "Pgza4YQ-mdd3",
        "colab_type": "code",
        "colab": {
          "base_uri": "https://localhost:8080/",
          "height": 34
        },
        "outputId": "0b65b65b-91d7-424e-83b7-3f5fea9a8c1d"
      },
      "source": [
        "y.shape"
      ],
      "execution_count": 18,
      "outputs": [
        {
          "output_type": "execute_result",
          "data": {
            "text/plain": [
              "(494020,)"
            ]
          },
          "metadata": {
            "tags": []
          },
          "execution_count": 18
        }
      ]
    },
    {
      "cell_type": "code",
      "metadata": {
        "id": "w8mGhIjUqdSI",
        "colab_type": "code",
        "colab": {}
      },
      "source": [
        "from sklearn.preprocessing import LabelEncoder, OneHotEncoder\n",
        "from sklearn.compose import ColumnTransformer\n",
        "labelencoder_x_1 = LabelEncoder()\n",
        "labelencoder_x_2 = LabelEncoder()\n",
        "labelencoder_x_3 = LabelEncoder()\n",
        "x[:, 1] = labelencoder_x_1.fit_transform(x[:, 1])\n",
        "x[:, 2] = labelencoder_x_2.fit_transform(x[:, 2])\n",
        "x[:, 3] = labelencoder_x_3.fit_transform(x[:, 3])"
      ],
      "execution_count": 19,
      "outputs": []
    },
    {
      "cell_type": "code",
      "metadata": {
        "id": "eUnxxGVKT1HJ",
        "colab_type": "code",
        "colab": {
          "base_uri": "https://localhost:8080/",
          "height": 140
        },
        "outputId": "3e4b50ca-77c6-4ace-8f91-e323b6244cb2"
      },
      "source": [
        "x"
      ],
      "execution_count": 20,
      "outputs": [
        {
          "output_type": "execute_result",
          "data": {
            "text/plain": [
              "array([[0, 1, 22, ..., 8, 9, 9],\n",
              "       [0, 1, 22, ..., 8, 19, 19],\n",
              "       [0, 1, 22, ..., 8, 29, 29],\n",
              "       ...,\n",
              "       [0, 1, 22, ..., 18, 16, 255],\n",
              "       [0, 1, 22, ..., 12, 26, 255],\n",
              "       [0, 1, 22, ..., 35, 6, 255]], dtype=object)"
            ]
          },
          "metadata": {
            "tags": []
          },
          "execution_count": 20
        }
      ]
    },
    {
      "cell_type": "code",
      "metadata": {
        "id": "gVugM7Tg4bNX",
        "colab_type": "code",
        "colab": {}
      },
      "source": [
        " from sklearn.model_selection import train_test_split\n",
        "x_train, x_test, y_train, y_test = train_test_split(x, y, test_size = 0.3, random_state = 0)"
      ],
      "execution_count": 95,
      "outputs": []
    },
    {
      "cell_type": "code",
      "metadata": {
        "id": "8JcXJcWP6h_2",
        "colab_type": "code",
        "colab": {}
      },
      "source": [
        "#feature scaling\n",
        "from sklearn.preprocessing import StandardScaler\n",
        "sc_x = StandardScaler()\n",
        "x_train = sc_x.fit_transform(x_train)\n",
        "x_test = sc_x.transform(x_test)"
      ],
      "execution_count": 96,
      "outputs": []
    },
    {
      "cell_type": "code",
      "metadata": {
        "id": "3xaf63Si6voP",
        "colab_type": "code",
        "colab": {
          "base_uri": "https://localhost:8080/",
          "height": 34
        },
        "outputId": "db46d822-96c9-418c-99a4-dd4751a54578"
      },
      "source": [
        "from sklearn.naive_bayes import GaussianNB\n",
        "classifier = GaussianNB()\n",
        "classifier.fit(x_train, y_train)"
      ],
      "execution_count": 97,
      "outputs": [
        {
          "output_type": "execute_result",
          "data": {
            "text/plain": [
              "GaussianNB(priors=None, var_smoothing=1e-09)"
            ]
          },
          "metadata": {
            "tags": []
          },
          "execution_count": 97
        }
      ]
    },
    {
      "cell_type": "code",
      "metadata": {
        "id": "aZieVVel62eJ",
        "colab_type": "code",
        "colab": {}
      },
      "source": [
        "# Predicting the Test set results\n",
        "y_pred = classifier.predict(x_test)\n"
      ],
      "execution_count": 98,
      "outputs": []
    },
    {
      "cell_type": "code",
      "metadata": {
        "id": "iq3n794B65qz",
        "colab_type": "code",
        "colab": {
          "base_uri": "https://localhost:8080/",
          "height": 52
        },
        "outputId": "85a35a2b-7d9e-4de4-8cca-1db8908b3983"
      },
      "source": [
        "# Making the Confusion Matrix\n",
        "from sklearn.metrics import confusion_matrix\n",
        "confusion_matrix(y_test, y_pred)"
      ],
      "execution_count": 99,
      "outputs": [
        {
          "output_type": "execute_result",
          "data": {
            "text/plain": [
              "array([[117292,   1559],\n",
              "       [  7624,  21731]])"
            ]
          },
          "metadata": {
            "tags": []
          },
          "execution_count": 99
        }
      ]
    },
    {
      "cell_type": "code",
      "metadata": {
        "id": "VbF7V8Xp7Bg8",
        "colab_type": "code",
        "colab": {
          "base_uri": "https://localhost:8080/",
          "height": 34
        },
        "outputId": "6c32c7db-a91a-4e4e-fa10-67cefdea1db3"
      },
      "source": [
        "from sklearn.model_selection import cross_val_score\n",
        "accuracies = cross_val_score(estimator = classifier, X = x_train, y = y_train, cv = 5)\n",
        "accuracies.mean()\n",
        "accuracies.std()"
      ],
      "execution_count": 100,
      "outputs": [
        {
          "output_type": "execute_result",
          "data": {
            "text/plain": [
              "0.01824981895534346"
            ]
          },
          "metadata": {
            "tags": []
          },
          "execution_count": 100
        }
      ]
    },
    {
      "cell_type": "code",
      "metadata": {
        "id": "GdSrcFgKZn1U",
        "colab_type": "code",
        "colab": {
          "base_uri": "https://localhost:8080/",
          "height": 34
        },
        "outputId": "77376971-7ab7-4ee0-99c9-11dcf4c897bb"
      },
      "source": [
        "from sklearn import metrics\n",
        "# Model Accuracy, how often is the classifier correct?\n",
        "print(\"Accuracy nb:\",metrics.accuracy_score(y_test, y_pred))"
      ],
      "execution_count": 101,
      "outputs": [
        {
          "output_type": "stream",
          "text": [
            "Accuracy nb: 0.9380389457916684\n"
          ],
          "name": "stdout"
        }
      ]
    },
    {
      "cell_type": "code",
      "metadata": {
        "id": "mCNLtMHzUaQ0",
        "colab_type": "code",
        "colab": {
          "base_uri": "https://localhost:8080/",
          "height": 175
        },
        "outputId": "7207933a-2641-4767-e72d-9c7aa6563275"
      },
      "source": [
        "from sklearn import metrics\n",
        "# Model Accuracy, how often is the classifier correct?\n",
        "print(metrics.classification_report(y_test, y_pred))"
      ],
      "execution_count": 102,
      "outputs": [
        {
          "output_type": "stream",
          "text": [
            "              precision    recall  f1-score   support\n",
            "\n",
            "      attack       0.94      0.99      0.96    118851\n",
            "      normal       0.93      0.74      0.83     29355\n",
            "\n",
            "    accuracy                           0.94    148206\n",
            "   macro avg       0.94      0.86      0.89    148206\n",
            "weighted avg       0.94      0.94      0.94    148206\n",
            "\n"
          ],
          "name": "stdout"
        }
      ]
    },
    {
      "cell_type": "code",
      "metadata": {
        "id": "gBKqTgglbNm-",
        "colab_type": "code",
        "colab": {
          "base_uri": "https://localhost:8080/",
          "height": 34
        },
        "outputId": "744ff274-9173-483a-80f5-3f33c1aa9769"
      },
      "source": [
        "from sklearn.ensemble import GradientBoostingClassifier\n",
        "from sklearn.metrics import accuracy_score\n",
        "#for optimization i used AdaBoostClassifier\n",
        "\n",
        "gbt = GradientBoostingClassifier()\n",
        "#abc2=AdaBoostClassifier(n_estimators=10,base_estimator=gbt,learning_rate=0.01)\n",
        "gbt1=gbt.fit(x_train,y_train)\n",
        "predictions = gbt1.predict(x_test)\n",
        "print(\"accuracy:\",accuracy_score(y_test, predictions)*100)"
      ],
      "execution_count": 103,
      "outputs": [
        {
          "output_type": "stream",
          "text": [
            "accuracy: 99.88192110980661\n"
          ],
          "name": "stdout"
        }
      ]
    },
    {
      "cell_type": "code",
      "metadata": {
        "id": "Y-chjRFqclFV",
        "colab_type": "code",
        "colab": {
          "base_uri": "https://localhost:8080/",
          "height": 34
        },
        "outputId": "16ee3be9-8be8-4248-90ef-dffd4dcc9158"
      },
      "source": [
        "from sklearn.linear_model import SGDClassifier\n",
        "sgb = SGDClassifier(loss=\"hinge\", penalty=\"l1\")\n",
        "#abc3=AdaBoostClassifier(n_estimators=100,base_estimator=sgb,learning_rate=0.01)\n",
        "sgb1=sgb.fit(x_train, y_train)  \n",
        "predictions = sgb1.predict(x_test)#\n",
        "print(\"accuracy for SGD:\",accuracy_score(y_test, predictions)*100)"
      ],
      "execution_count": 104,
      "outputs": [
        {
          "output_type": "stream",
          "text": [
            "accuracy for SGD: 98.5648354317639\n"
          ],
          "name": "stdout"
        }
      ]
    },
    {
      "cell_type": "code",
      "metadata": {
        "id": "x6T4l09Lc1DK",
        "colab_type": "code",
        "colab": {
          "base_uri": "https://localhost:8080/",
          "height": 34
        },
        "outputId": "bd052f9c-5a85-4622-c6fc-1d61c303b370"
      },
      "source": [
        "from sklearn.ensemble import AdaBoostClassifier\n",
        "abt = AdaBoostClassifier(n_estimators=100)\n",
        "\n",
        "abt1=abt.fit(x_train, y_train)  \n",
        "predictions = abt1.predict(x_test)\n",
        "print(\"accuracy:\",accuracy_score(y_test, predictions)*100)   "
      ],
      "execution_count": 105,
      "outputs": [
        {
          "output_type": "stream",
          "text": [
            "accuracy: 99.8623537508603\n"
          ],
          "name": "stdout"
        }
      ]
    },
    {
      "cell_type": "code",
      "metadata": {
        "id": "wK2zk5ZxdCFq",
        "colab_type": "code",
        "colab": {
          "base_uri": "https://localhost:8080/",
          "height": 34
        },
        "outputId": "55518907-060c-4d18-d2e5-78014b0e72d6"
      },
      "source": [
        "from sklearn.tree import DecisionTreeClassifier\n",
        "clf=DecisionTreeClassifier(max_leaf_nodes=15,criterion='gini')\n",
        "#abc5=AdaBoostClassifier(n_estimators=100,base_estimator=clf,learning_rate=0.01)\n",
        "clf1=clf.fit(x_train,y_train)\n",
        "predictions = clf1.predict(x_test)\n",
        "print(\"accuracy for decision tree:\",accuracy_score(y_test, predictions)*100)"
      ],
      "execution_count": 106,
      "outputs": [
        {
          "output_type": "stream",
          "text": [
            "accuracy for decision tree: 99.8319906076677\n"
          ],
          "name": "stdout"
        }
      ]
    },
    {
      "cell_type": "code",
      "metadata": {
        "id": "z2HzEfzPf27e",
        "colab_type": "code",
        "colab": {
          "base_uri": "https://localhost:8080/",
          "height": 34
        },
        "outputId": "77279397-98f2-4c78-adea-d6e768418790"
      },
      "source": [
        "from sklearn.ensemble import RandomForestClassifier\n",
        "clf2 = RandomForestClassifier(n_estimators=1000,max_leaf_nodes=15)\n",
        "#abc6=AdaBoostClassifier(n_estimators=100,base_estimator=clf2,learning_rate=0.01)\n",
        "clf5=clf2.fit(x_train,y_train)\n",
        "predictions = clf5.predict(x_test)\n",
        "print(\"accuracy for RFC:\",accuracy_score(y_test, predictions)*100)"
      ],
      "execution_count": 107,
      "outputs": [
        {
          "output_type": "stream",
          "text": [
            "accuracy for RFC: 99.72740644778214\n"
          ],
          "name": "stdout"
        }
      ]
    },
    {
      "cell_type": "code",
      "metadata": {
        "id": "gLWlPTgGgCBc",
        "colab_type": "code",
        "colab": {
          "base_uri": "https://localhost:8080/",
          "height": 87
        },
        "outputId": "d48cb123-458c-4c45-f281-4d23c30225b5"
      },
      "source": [
        "from sklearn.neural_network import MLPClassifier\n",
        "mlp = MLPClassifier(hidden_layer_sizes=(100, 100, 12), alpha=1e-4, solver='sgd', random_state=42, learning_rate_init=.1) \n",
        "model_3 = mlp.fit(x_train, y_train) \n",
        "y_pred = model_3.predict(x_test) \n",
        "acc = metrics.accuracy_score(y_test, y_pred) \n",
        "print(\"This is Multi Layer Perceptron classifier \\n\\n\")\n",
        "print(\"Accuracy: {: .4f} %\".format(acc*100)) "
      ],
      "execution_count": 108,
      "outputs": [
        {
          "output_type": "stream",
          "text": [
            "This is Multi Layer Perceptron classifier \n",
            "\n",
            "\n",
            "Accuracy:  99.8576 %\n"
          ],
          "name": "stdout"
        }
      ]
    }
  ]
}